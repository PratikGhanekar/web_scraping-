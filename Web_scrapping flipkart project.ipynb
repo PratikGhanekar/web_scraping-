{
 "cells": [
  {
   "cell_type": "markdown",
   "id": "26f6be3a",
   "metadata": {},
   "source": [
    "# Scraping Flipkart Data using Python , In this project, we want to extract data from flipkart websites"
   ]
  },
  {
   "cell_type": "code",
   "execution_count": 1,
   "id": "eef53923",
   "metadata": {},
   "outputs": [],
   "source": [
    "# Installing the required libraries"
   ]
  },
  {
   "cell_type": "code",
   "execution_count": 2,
   "id": "a3fc9e74",
   "metadata": {},
   "outputs": [],
   "source": [
    "#!pip install bs4"
   ]
  },
  {
   "cell_type": "code",
   "execution_count": 3,
   "id": "92c4a143",
   "metadata": {},
   "outputs": [],
   "source": [
    "# Call BeautifulSoup inbuilt class from bs4 package"
   ]
  },
  {
   "cell_type": "code",
   "execution_count": 4,
   "id": "813bc21e",
   "metadata": {},
   "outputs": [],
   "source": [
    "from bs4 import BeautifulSoup"
   ]
  },
  {
   "cell_type": "code",
   "execution_count": 5,
   "id": "18427044",
   "metadata": {},
   "outputs": [],
   "source": [
    "# Accessing the HTML content from webpage import requests"
   ]
  },
  {
   "cell_type": "code",
   "execution_count": 6,
   "id": "5ca73ca5",
   "metadata": {},
   "outputs": [],
   "source": [
    "import requests"
   ]
  },
  {
   "cell_type": "code",
   "execution_count": 7,
   "id": "5ea93f3a",
   "metadata": {},
   "outputs": [],
   "source": [
    "#find url that we want to extract data from webpage of websites\n",
    "#In this project, we want to extract data from flipkart websites\n",
    "#data : laptop_data\n",
    "#creating user define variable url and store url in url variable\n",
    "url='https://www.flipkart.com/search?count=40&otracker=CLP_filters&p%5B%5D=facets.smart_tv%255B%255D%3DYes&p%5B%5D=facets.resolution%255B%255D%3DUltra%2BHD%2B%25284K%2529&sid=ckf%2Fczl&otracker=nmenu_sub_TVs%20and%20Appliances_0_Smart%20and%20Ultra%20HD&otracker=nmenu_sub_TVs%20%26%20Appliances_0_Smart%20%26%20Ultra%20HD&otracker=nmenu_sub_TVs%20%26%20Appliances_0_Smart%20%26%20Ultra%20HD'"
   ]
  },
  {
   "cell_type": "code",
   "execution_count": 8,
   "id": "94e9a5bc",
   "metadata": {
    "scrolled": false
   },
   "outputs": [
    {
     "name": "stdout",
     "output_type": "stream",
     "text": [
      "<Response [200]>\n"
     ]
    }
   ],
   "source": [
    "#here using Exception handling\n",
    "#here get is inbuilt fn of requests library\n",
    "#get is send requests in following url or webpage of particular website\n",
    "try:\n",
    "    response=requests.get(url)\n",
    "    \n",
    "except Exception as e:\n",
    "    print(e)\n",
    "    \n",
    "else:\n",
    "    print(response)\n",
    "    \n",
    "    #create user define variable webpage\n",
    "    #to extract all html code from webpage\n",
    "    webpage=BeautifulSoup(response.text,'html.parser')\n",
    "    #for good format of HTML code\n",
    "    #use inbuilt method prettify () which is defined in BeautifulSoup class\n",
    "    #object of BeautifulSoup class is webpage\n",
    "    #print(webpage.prettify())\n",
    "    #respose 200 means giving permission"
   ]
  },
  {
   "cell_type": "code",
   "execution_count": 9,
   "id": "c537d66b",
   "metadata": {},
   "outputs": [
    {
     "name": "stdout",
     "output_type": "stream",
     "text": [
      "<div class=\"_4rR01T\">KODAK 139 cm (55 inch) QLED Ultra HD (4K) Smart Google TV With Dolby Atmos &amp; Dolby Vision</div>\n"
     ]
    }
   ],
   "source": [
    "#find() :to find the given tag from html code\n",
    "#syntax\n",
    "#webpage.find(\"tagname\",attrs={\"class\":\"style_name\"})\n",
    "tv_name=webpage.find('div',attrs={\"class\",\"_4rR01T\"})\n",
    "print(tv_name)"
   ]
  },
  {
   "cell_type": "code",
   "execution_count": 10,
   "id": "82d7668f",
   "metadata": {},
   "outputs": [
    {
     "name": "stdout",
     "output_type": "stream",
     "text": [
      "KODAK 139 cm (55 inch) QLED Ultra HD (4K) Smart Google TV With Dolby Atmos & Dolby Vision\n"
     ]
    }
   ],
   "source": [
    "#to show text only\n",
    "print(tv_name.text)"
   ]
  },
  {
   "cell_type": "code",
   "execution_count": 11,
   "id": "dc7d0109",
   "metadata": {},
   "outputs": [
    {
     "name": "stdout",
     "output_type": "stream",
     "text": [
      "[<div class=\"_4rR01T\">KODAK 139 cm (55 inch) QLED Ultra HD (4K) Smart Google TV With Dolby Atmos &amp; Dolby Vision</div>, <div class=\"_4rR01T\">iFFALCON by TCL U62 108 cm (43 inch) Ultra HD (4K) LED Smart Google TV</div>, <div class=\"_4rR01T\">OnePlus Y1S Pro 138 cm (55 inch) Ultra HD (4K) LED Smart Android TV</div>, <div class=\"_4rR01T\">SAMSUNG Crystal 4K 108 cm (43 inch) Ultra HD (4K) LED Smart Tizen TV</div>, <div class=\"_4rR01T\">Mi X Series 108 cm (43 inch) Ultra HD (4K) LED Smart Android TV with Dolby Vision and 30W Dolby Audio ...</div>, <div class=\"_4rR01T\">acer I Series 109 cm (43 inch) Ultra HD (4K) LED Smart Android TV with Android 11, 30W Dolby Audio, ME...</div>, <div class=\"_4rR01T\">Mi X Series 138 cm (55 inch) Ultra HD (4K) LED Smart Android TV with Dolby Vision &amp; 30W Dolby Audio (2...</div>, <div class=\"_4rR01T\">SENS Pikaso 127 cm (50 inch) Ultra HD (4K) LED Smart Android TV with FluroSENS Panel, Dolby Audio and ...</div>, <div class=\"_4rR01T\">Mi X Series 125 cm (50 inch) Ultra HD (4K) LED Smart Android TV with Dolby Vision &amp; 30W Dolby Audio (2...</div>, <div class=\"_4rR01T\">Vu 138 cm (55 inch) Ultra HD (4K) LED Smart WebOS TV</div>, <div class=\"_4rR01T\">SAMSUNG Crystal 4K Neo Series 108 cm (43 inch) Ultra HD (4K) LED Smart Tizen TV with (Black) (2022 Mod...</div>, <div class=\"_4rR01T\">KODAK 126 cm (50 inch) QLED Ultra HD (4K) Smart Google TV With Dolby Atmos &amp; Dolby Vision</div>, <div class=\"_4rR01T\">OnePlus U1S 139 cm (55 inch) Ultra HD (4K) LED Smart Android TV with Far field and Dolby Audio</div>, <div class=\"_4rR01T\">acer I Series 127 cm (50 inch) Ultra HD (4K) LED Smart Android TV with Android 11, 30W Dolby Audio, ME...</div>, <div class=\"_4rR01T\">Thomson 9R PRO 108 cm (43 inch) Ultra HD (4K) LED Smart Android TV</div>, <div class=\"_4rR01T\">TOSHIBA U50 Series 126 cm (50 inch) Ultra HD (4K) LED Smart VIDAA TV with Dolby Vision &amp; ATMOS</div>, <div class=\"_4rR01T\">Vu GloLED 108 cm (43 inch) Ultra HD (4K) LED Smart Google TV with DJ Subwoofer 84W</div>, <div class=\"_4rR01T\">Hisense A6H 108 cm (43 inch) Ultra HD (4K) LED Smart Google TV with Hands Free Voice Control, Dolby Vi...</div>, <div class=\"_4rR01T\">acer I Series 139 cm (55 inch) Ultra HD (4K) LED Smart Android TV with Android 11, 30W Dolby Audio, ME...</div>, <div class=\"_4rR01T\">TOSHIBA C350LP 139 cm (55 inch) Ultra HD (4K) LED Smart Google TV</div>, <div class=\"_4rR01T\">realme 108 cm (43 inch) Ultra HD (4K) LED Smart Android TV with Handsfree Voice Search and Dolby Visio...</div>, <div class=\"_4rR01T\">Vu GloLED 126 cm (50 inch) Ultra HD (4K) LED Smart Google TV with DJ Subwoofer 104W</div>, <div class=\"_4rR01T\">Vu 108 cm (43 inch) Ultra HD (4K) LED Smart WebOS TV</div>, <div class=\"_4rR01T\">TOSHIBA C350LP Series 126 cm (50 inch) Ultra HD (4K) LED Smart Google TV with Dolby Vision Atmos and R...</div>]\n"
     ]
    }
   ],
   "source": [
    "#to show all names with this style _4rR01T on page\n",
    "#for that use find_all()\n",
    "tv_name=webpage.find_all('div',attrs={\"class\",\"_4rR01T\"})\n",
    "print(tv_name)\n",
    "#find_call() :inbuilt method of BeautifulSoup class\n",
    "#and return in list"
   ]
  },
  {
   "cell_type": "code",
   "execution_count": 12,
   "id": "411132ea",
   "metadata": {},
   "outputs": [
    {
     "data": {
      "text/plain": [
       "['KODAK 139 cm (55 inch) QLED Ultra HD (4K) Smart Google TV With Dolby Atmos & Dolby Vision',\n",
       " 'iFFALCON by TCL U62 108 cm (43 inch) Ultra HD (4K) LED Smart Google TV',\n",
       " 'OnePlus Y1S Pro 138 cm (55 inch) Ultra HD (4K) LED Smart Android TV',\n",
       " 'SAMSUNG Crystal 4K 108 cm (43 inch) Ultra HD (4K) LED Smart Tizen TV',\n",
       " 'Mi X Series 108 cm (43 inch) Ultra HD (4K) LED Smart Android TV with Dolby Vision and 30W Dolby Audio ...',\n",
       " 'acer I Series 109 cm (43 inch) Ultra HD (4K) LED Smart Android TV with Android 11, 30W Dolby Audio, ME...',\n",
       " 'Mi X Series 138 cm (55 inch) Ultra HD (4K) LED Smart Android TV with Dolby Vision & 30W Dolby Audio (2...',\n",
       " 'SENS Pikaso 127 cm (50 inch) Ultra HD (4K) LED Smart Android TV with FluroSENS Panel, Dolby Audio and ...',\n",
       " 'Mi X Series 125 cm (50 inch) Ultra HD (4K) LED Smart Android TV with Dolby Vision & 30W Dolby Audio (2...',\n",
       " 'Vu 138 cm (55 inch) Ultra HD (4K) LED Smart WebOS TV',\n",
       " 'SAMSUNG Crystal 4K Neo Series 108 cm (43 inch) Ultra HD (4K) LED Smart Tizen TV with (Black) (2022 Mod...',\n",
       " 'KODAK 126 cm (50 inch) QLED Ultra HD (4K) Smart Google TV With Dolby Atmos & Dolby Vision',\n",
       " 'OnePlus U1S 139 cm (55 inch) Ultra HD (4K) LED Smart Android TV with Far field and Dolby Audio',\n",
       " 'acer I Series 127 cm (50 inch) Ultra HD (4K) LED Smart Android TV with Android 11, 30W Dolby Audio, ME...',\n",
       " 'Thomson 9R PRO 108 cm (43 inch) Ultra HD (4K) LED Smart Android TV',\n",
       " 'TOSHIBA U50 Series 126 cm (50 inch) Ultra HD (4K) LED Smart VIDAA TV with Dolby Vision & ATMOS',\n",
       " 'Vu GloLED 108 cm (43 inch) Ultra HD (4K) LED Smart Google TV with DJ Subwoofer 84W',\n",
       " 'Hisense A6H 108 cm (43 inch) Ultra HD (4K) LED Smart Google TV with Hands Free Voice Control, Dolby Vi...',\n",
       " 'acer I Series 139 cm (55 inch) Ultra HD (4K) LED Smart Android TV with Android 11, 30W Dolby Audio, ME...',\n",
       " 'TOSHIBA C350LP 139 cm (55 inch) Ultra HD (4K) LED Smart Google TV',\n",
       " 'realme 108 cm (43 inch) Ultra HD (4K) LED Smart Android TV with Handsfree Voice Search and Dolby Visio...',\n",
       " 'Vu GloLED 126 cm (50 inch) Ultra HD (4K) LED Smart Google TV with DJ Subwoofer 104W',\n",
       " 'Vu 108 cm (43 inch) Ultra HD (4K) LED Smart WebOS TV',\n",
       " 'TOSHIBA C350LP Series 126 cm (50 inch) Ultra HD (4K) LED Smart Google TV with Dolby Vision Atmos and R...']"
      ]
     },
     "execution_count": 12,
     "metadata": {},
     "output_type": "execute_result"
    }
   ],
   "source": [
    "#to remove tag\n",
    "tv_name=webpage.find_all('div',attrs={\"class\",\"_4rR01T\"})\n",
    "#using list comprehension\n",
    "tv_name=[i.text for i in tv_name]\n",
    "tv_name"
   ]
  },
  {
   "cell_type": "code",
   "execution_count": 13,
   "id": "2f5c19ba",
   "metadata": {},
   "outputs": [],
   "source": [
    "#Extract price of all tv from this particular page\n",
    "tv_price=webpage.find_all('div',attrs={\"class\",\"_30jeq3 _1_WHN1\"})"
   ]
  },
  {
   "cell_type": "code",
   "execution_count": 14,
   "id": "dc900afa",
   "metadata": {},
   "outputs": [
    {
     "name": "stdout",
     "output_type": "stream",
     "text": [
      "[<div class=\"_30jeq3 _1_WHN1\">₹37,999</div>, <div class=\"_30jeq3 _1_WHN1\">₹21,999</div>, <div class=\"_30jeq3 _1_WHN1\">₹39,999</div>, <div class=\"_30jeq3 _1_WHN1\">₹29,990</div>, <div class=\"_30jeq3 _1_WHN1\">₹26,999</div>, <div class=\"_30jeq3 _1_WHN1\">₹23,999</div>, <div class=\"_30jeq3 _1_WHN1\">₹37,999</div>, <div class=\"_30jeq3 _1_WHN1\">₹24,999</div>, <div class=\"_30jeq3 _1_WHN1\">₹32,999</div>, <div class=\"_30jeq3 _1_WHN1\">₹29,990</div>, <div class=\"_30jeq3 _1_WHN1\">₹31,990</div>, <div class=\"_30jeq3 _1_WHN1\">₹31,999</div>, <div class=\"_30jeq3 _1_WHN1\">₹42,999</div>, <div class=\"_30jeq3 _1_WHN1\">₹27,999</div>, <div class=\"_30jeq3 _1_WHN1\">₹19,109</div>, <div class=\"_30jeq3 _1_WHN1\">₹26,999</div>, <div class=\"_30jeq3 _1_WHN1\">₹27,990</div>, <div class=\"_30jeq3 _1_WHN1\">₹27,990</div>, <div class=\"_30jeq3 _1_WHN1\">₹32,999</div>, <div class=\"_30jeq3 _1_WHN1\">₹32,999</div>, <div class=\"_30jeq3 _1_WHN1\">₹25,999</div>, <div class=\"_30jeq3 _1_WHN1\">₹32,999</div>, <div class=\"_30jeq3 _1_WHN1\">₹20,999</div>, <div class=\"_30jeq3 _1_WHN1\">₹32,990</div>]\n"
     ]
    }
   ],
   "source": [
    "print(tv_price)"
   ]
  },
  {
   "cell_type": "code",
   "execution_count": 15,
   "id": "7eed221e",
   "metadata": {},
   "outputs": [
    {
     "name": "stdout",
     "output_type": "stream",
     "text": [
      "['₹37,999', '₹21,999', '₹39,999', '₹29,990', '₹26,999', '₹23,999', '₹37,999', '₹24,999', '₹32,999', '₹29,990', '₹31,990', '₹31,999', '₹42,999', '₹27,999', '₹19,109', '₹26,999', '₹27,990', '₹27,990', '₹32,999', '₹32,999', '₹25,999', '₹32,999', '₹20,999', '₹32,990']\n"
     ]
    }
   ],
   "source": [
    "#to remove tag use list comprehension\n",
    "tv_price=[i.text for i in tv_price]\n",
    "print(tv_price)"
   ]
  },
  {
   "cell_type": "code",
   "execution_count": 16,
   "id": "94920345",
   "metadata": {},
   "outputs": [
    {
     "data": {
      "text/html": [
       "<div>\n",
       "<style scoped>\n",
       "    .dataframe tbody tr th:only-of-type {\n",
       "        vertical-align: middle;\n",
       "    }\n",
       "\n",
       "    .dataframe tbody tr th {\n",
       "        vertical-align: top;\n",
       "    }\n",
       "\n",
       "    .dataframe thead th {\n",
       "        text-align: right;\n",
       "    }\n",
       "</style>\n",
       "<table border=\"1\" class=\"dataframe\">\n",
       "  <thead>\n",
       "    <tr style=\"text-align: right;\">\n",
       "      <th></th>\n",
       "      <th>tv_name</th>\n",
       "      <th>tv_price</th>\n",
       "    </tr>\n",
       "  </thead>\n",
       "  <tbody>\n",
       "    <tr>\n",
       "      <th>0</th>\n",
       "      <td>KODAK 139 cm (55 inch) QLED Ultra HD (4K) Smar...</td>\n",
       "      <td>₹37,999</td>\n",
       "    </tr>\n",
       "    <tr>\n",
       "      <th>1</th>\n",
       "      <td>iFFALCON by TCL U62 108 cm (43 inch) Ultra HD ...</td>\n",
       "      <td>₹21,999</td>\n",
       "    </tr>\n",
       "    <tr>\n",
       "      <th>2</th>\n",
       "      <td>OnePlus Y1S Pro 138 cm (55 inch) Ultra HD (4K)...</td>\n",
       "      <td>₹39,999</td>\n",
       "    </tr>\n",
       "    <tr>\n",
       "      <th>3</th>\n",
       "      <td>SAMSUNG Crystal 4K 108 cm (43 inch) Ultra HD (...</td>\n",
       "      <td>₹29,990</td>\n",
       "    </tr>\n",
       "    <tr>\n",
       "      <th>4</th>\n",
       "      <td>Mi X Series 108 cm (43 inch) Ultra HD (4K) LED...</td>\n",
       "      <td>₹26,999</td>\n",
       "    </tr>\n",
       "    <tr>\n",
       "      <th>5</th>\n",
       "      <td>acer I Series 109 cm (43 inch) Ultra HD (4K) L...</td>\n",
       "      <td>₹23,999</td>\n",
       "    </tr>\n",
       "    <tr>\n",
       "      <th>6</th>\n",
       "      <td>Mi X Series 138 cm (55 inch) Ultra HD (4K) LED...</td>\n",
       "      <td>₹37,999</td>\n",
       "    </tr>\n",
       "    <tr>\n",
       "      <th>7</th>\n",
       "      <td>SENS Pikaso 127 cm (50 inch) Ultra HD (4K) LED...</td>\n",
       "      <td>₹24,999</td>\n",
       "    </tr>\n",
       "    <tr>\n",
       "      <th>8</th>\n",
       "      <td>Mi X Series 125 cm (50 inch) Ultra HD (4K) LED...</td>\n",
       "      <td>₹32,999</td>\n",
       "    </tr>\n",
       "    <tr>\n",
       "      <th>9</th>\n",
       "      <td>Vu 138 cm (55 inch) Ultra HD (4K) LED Smart We...</td>\n",
       "      <td>₹29,990</td>\n",
       "    </tr>\n",
       "    <tr>\n",
       "      <th>10</th>\n",
       "      <td>SAMSUNG Crystal 4K Neo Series 108 cm (43 inch)...</td>\n",
       "      <td>₹31,990</td>\n",
       "    </tr>\n",
       "    <tr>\n",
       "      <th>11</th>\n",
       "      <td>KODAK 126 cm (50 inch) QLED Ultra HD (4K) Smar...</td>\n",
       "      <td>₹31,999</td>\n",
       "    </tr>\n",
       "    <tr>\n",
       "      <th>12</th>\n",
       "      <td>OnePlus U1S 139 cm (55 inch) Ultra HD (4K) LED...</td>\n",
       "      <td>₹42,999</td>\n",
       "    </tr>\n",
       "    <tr>\n",
       "      <th>13</th>\n",
       "      <td>acer I Series 127 cm (50 inch) Ultra HD (4K) L...</td>\n",
       "      <td>₹27,999</td>\n",
       "    </tr>\n",
       "    <tr>\n",
       "      <th>14</th>\n",
       "      <td>Thomson 9R PRO 108 cm (43 inch) Ultra HD (4K) ...</td>\n",
       "      <td>₹19,109</td>\n",
       "    </tr>\n",
       "    <tr>\n",
       "      <th>15</th>\n",
       "      <td>TOSHIBA U50 Series 126 cm (50 inch) Ultra HD (...</td>\n",
       "      <td>₹26,999</td>\n",
       "    </tr>\n",
       "    <tr>\n",
       "      <th>16</th>\n",
       "      <td>Vu GloLED 108 cm (43 inch) Ultra HD (4K) LED S...</td>\n",
       "      <td>₹27,990</td>\n",
       "    </tr>\n",
       "    <tr>\n",
       "      <th>17</th>\n",
       "      <td>Hisense A6H 108 cm (43 inch) Ultra HD (4K) LED...</td>\n",
       "      <td>₹27,990</td>\n",
       "    </tr>\n",
       "    <tr>\n",
       "      <th>18</th>\n",
       "      <td>acer I Series 139 cm (55 inch) Ultra HD (4K) L...</td>\n",
       "      <td>₹32,999</td>\n",
       "    </tr>\n",
       "    <tr>\n",
       "      <th>19</th>\n",
       "      <td>TOSHIBA C350LP 139 cm (55 inch) Ultra HD (4K) ...</td>\n",
       "      <td>₹32,999</td>\n",
       "    </tr>\n",
       "    <tr>\n",
       "      <th>20</th>\n",
       "      <td>realme 108 cm (43 inch) Ultra HD (4K) LED Smar...</td>\n",
       "      <td>₹25,999</td>\n",
       "    </tr>\n",
       "    <tr>\n",
       "      <th>21</th>\n",
       "      <td>Vu GloLED 126 cm (50 inch) Ultra HD (4K) LED S...</td>\n",
       "      <td>₹32,999</td>\n",
       "    </tr>\n",
       "    <tr>\n",
       "      <th>22</th>\n",
       "      <td>Vu 108 cm (43 inch) Ultra HD (4K) LED Smart We...</td>\n",
       "      <td>₹20,999</td>\n",
       "    </tr>\n",
       "    <tr>\n",
       "      <th>23</th>\n",
       "      <td>TOSHIBA C350LP Series 126 cm (50 inch) Ultra H...</td>\n",
       "      <td>₹32,990</td>\n",
       "    </tr>\n",
       "  </tbody>\n",
       "</table>\n",
       "</div>"
      ],
      "text/plain": [
       "                                              tv_name tv_price\n",
       "0   KODAK 139 cm (55 inch) QLED Ultra HD (4K) Smar...  ₹37,999\n",
       "1   iFFALCON by TCL U62 108 cm (43 inch) Ultra HD ...  ₹21,999\n",
       "2   OnePlus Y1S Pro 138 cm (55 inch) Ultra HD (4K)...  ₹39,999\n",
       "3   SAMSUNG Crystal 4K 108 cm (43 inch) Ultra HD (...  ₹29,990\n",
       "4   Mi X Series 108 cm (43 inch) Ultra HD (4K) LED...  ₹26,999\n",
       "5   acer I Series 109 cm (43 inch) Ultra HD (4K) L...  ₹23,999\n",
       "6   Mi X Series 138 cm (55 inch) Ultra HD (4K) LED...  ₹37,999\n",
       "7   SENS Pikaso 127 cm (50 inch) Ultra HD (4K) LED...  ₹24,999\n",
       "8   Mi X Series 125 cm (50 inch) Ultra HD (4K) LED...  ₹32,999\n",
       "9   Vu 138 cm (55 inch) Ultra HD (4K) LED Smart We...  ₹29,990\n",
       "10  SAMSUNG Crystal 4K Neo Series 108 cm (43 inch)...  ₹31,990\n",
       "11  KODAK 126 cm (50 inch) QLED Ultra HD (4K) Smar...  ₹31,999\n",
       "12  OnePlus U1S 139 cm (55 inch) Ultra HD (4K) LED...  ₹42,999\n",
       "13  acer I Series 127 cm (50 inch) Ultra HD (4K) L...  ₹27,999\n",
       "14  Thomson 9R PRO 108 cm (43 inch) Ultra HD (4K) ...  ₹19,109\n",
       "15  TOSHIBA U50 Series 126 cm (50 inch) Ultra HD (...  ₹26,999\n",
       "16  Vu GloLED 108 cm (43 inch) Ultra HD (4K) LED S...  ₹27,990\n",
       "17  Hisense A6H 108 cm (43 inch) Ultra HD (4K) LED...  ₹27,990\n",
       "18  acer I Series 139 cm (55 inch) Ultra HD (4K) L...  ₹32,999\n",
       "19  TOSHIBA C350LP 139 cm (55 inch) Ultra HD (4K) ...  ₹32,999\n",
       "20  realme 108 cm (43 inch) Ultra HD (4K) LED Smar...  ₹25,999\n",
       "21  Vu GloLED 126 cm (50 inch) Ultra HD (4K) LED S...  ₹32,999\n",
       "22  Vu 108 cm (43 inch) Ultra HD (4K) LED Smart We...  ₹20,999\n",
       "23  TOSHIBA C350LP Series 126 cm (50 inch) Ultra H...  ₹32,990"
      ]
     },
     "execution_count": 16,
     "metadata": {},
     "output_type": "execute_result"
    }
   ],
   "source": [
    "#to store tv name and tv_price in table\n",
    "#create dict\n",
    "dict={\"tv_name\":tv_name,\"tv_price\":tv_price}\n",
    "dict\n",
    "#convert dict into dataframe\n",
    "#use inbuild library pandas\n",
    "import pandas as pd\n",
    "df=pd.DataFrame(dict)\n",
    "df"
   ]
  },
  {
   "cell_type": "code",
   "execution_count": 17,
   "id": "434f8fbb",
   "metadata": {},
   "outputs": [],
   "source": [
    "#to store data in permanant use inbuilt fn to_csv() which is defined in csv package\n",
    "#object of dataframe.to_csv('permamntfile.csv')\n",
    "#index=False means not saving record no \n",
    "import csv\n",
    "df.to_csv('tv.csv',index=False)"
   ]
  },
  {
   "cell_type": "code",
   "execution_count": 18,
   "id": "c7c7993e",
   "metadata": {},
   "outputs": [
    {
     "data": {
      "text/html": [
       "<div>\n",
       "<style scoped>\n",
       "    .dataframe tbody tr th:only-of-type {\n",
       "        vertical-align: middle;\n",
       "    }\n",
       "\n",
       "    .dataframe tbody tr th {\n",
       "        vertical-align: top;\n",
       "    }\n",
       "\n",
       "    .dataframe thead th {\n",
       "        text-align: right;\n",
       "    }\n",
       "</style>\n",
       "<table border=\"1\" class=\"dataframe\">\n",
       "  <thead>\n",
       "    <tr style=\"text-align: right;\">\n",
       "      <th></th>\n",
       "      <th>tv_name</th>\n",
       "      <th>tv_price</th>\n",
       "    </tr>\n",
       "  </thead>\n",
       "  <tbody>\n",
       "    <tr>\n",
       "      <th>0</th>\n",
       "      <td>KODAK 139 cm (55 inch) QLED Ultra HD (4K) Smar...</td>\n",
       "      <td>₹37,999</td>\n",
       "    </tr>\n",
       "    <tr>\n",
       "      <th>1</th>\n",
       "      <td>iFFALCON by TCL U62 108 cm (43 inch) Ultra HD ...</td>\n",
       "      <td>₹21,999</td>\n",
       "    </tr>\n",
       "    <tr>\n",
       "      <th>2</th>\n",
       "      <td>OnePlus Y1S Pro 138 cm (55 inch) Ultra HD (4K)...</td>\n",
       "      <td>₹39,999</td>\n",
       "    </tr>\n",
       "    <tr>\n",
       "      <th>3</th>\n",
       "      <td>SAMSUNG Crystal 4K 108 cm (43 inch) Ultra HD (...</td>\n",
       "      <td>₹29,990</td>\n",
       "    </tr>\n",
       "    <tr>\n",
       "      <th>4</th>\n",
       "      <td>Mi X Series 108 cm (43 inch) Ultra HD (4K) LED...</td>\n",
       "      <td>₹26,999</td>\n",
       "    </tr>\n",
       "    <tr>\n",
       "      <th>5</th>\n",
       "      <td>acer I Series 109 cm (43 inch) Ultra HD (4K) L...</td>\n",
       "      <td>₹23,999</td>\n",
       "    </tr>\n",
       "    <tr>\n",
       "      <th>6</th>\n",
       "      <td>Mi X Series 138 cm (55 inch) Ultra HD (4K) LED...</td>\n",
       "      <td>₹37,999</td>\n",
       "    </tr>\n",
       "    <tr>\n",
       "      <th>7</th>\n",
       "      <td>SENS Pikaso 127 cm (50 inch) Ultra HD (4K) LED...</td>\n",
       "      <td>₹24,999</td>\n",
       "    </tr>\n",
       "    <tr>\n",
       "      <th>8</th>\n",
       "      <td>Mi X Series 125 cm (50 inch) Ultra HD (4K) LED...</td>\n",
       "      <td>₹32,999</td>\n",
       "    </tr>\n",
       "    <tr>\n",
       "      <th>9</th>\n",
       "      <td>Vu 138 cm (55 inch) Ultra HD (4K) LED Smart We...</td>\n",
       "      <td>₹29,990</td>\n",
       "    </tr>\n",
       "    <tr>\n",
       "      <th>10</th>\n",
       "      <td>SAMSUNG Crystal 4K Neo Series 108 cm (43 inch)...</td>\n",
       "      <td>₹31,990</td>\n",
       "    </tr>\n",
       "    <tr>\n",
       "      <th>11</th>\n",
       "      <td>KODAK 126 cm (50 inch) QLED Ultra HD (4K) Smar...</td>\n",
       "      <td>₹31,999</td>\n",
       "    </tr>\n",
       "    <tr>\n",
       "      <th>12</th>\n",
       "      <td>OnePlus U1S 139 cm (55 inch) Ultra HD (4K) LED...</td>\n",
       "      <td>₹42,999</td>\n",
       "    </tr>\n",
       "    <tr>\n",
       "      <th>13</th>\n",
       "      <td>acer I Series 127 cm (50 inch) Ultra HD (4K) L...</td>\n",
       "      <td>₹27,999</td>\n",
       "    </tr>\n",
       "    <tr>\n",
       "      <th>14</th>\n",
       "      <td>Thomson 9R PRO 108 cm (43 inch) Ultra HD (4K) ...</td>\n",
       "      <td>₹19,109</td>\n",
       "    </tr>\n",
       "    <tr>\n",
       "      <th>15</th>\n",
       "      <td>TOSHIBA U50 Series 126 cm (50 inch) Ultra HD (...</td>\n",
       "      <td>₹26,999</td>\n",
       "    </tr>\n",
       "    <tr>\n",
       "      <th>16</th>\n",
       "      <td>Vu GloLED 108 cm (43 inch) Ultra HD (4K) LED S...</td>\n",
       "      <td>₹27,990</td>\n",
       "    </tr>\n",
       "    <tr>\n",
       "      <th>17</th>\n",
       "      <td>Hisense A6H 108 cm (43 inch) Ultra HD (4K) LED...</td>\n",
       "      <td>₹27,990</td>\n",
       "    </tr>\n",
       "    <tr>\n",
       "      <th>18</th>\n",
       "      <td>acer I Series 139 cm (55 inch) Ultra HD (4K) L...</td>\n",
       "      <td>₹32,999</td>\n",
       "    </tr>\n",
       "    <tr>\n",
       "      <th>19</th>\n",
       "      <td>TOSHIBA C350LP 139 cm (55 inch) Ultra HD (4K) ...</td>\n",
       "      <td>₹32,999</td>\n",
       "    </tr>\n",
       "    <tr>\n",
       "      <th>20</th>\n",
       "      <td>realme 108 cm (43 inch) Ultra HD (4K) LED Smar...</td>\n",
       "      <td>₹25,999</td>\n",
       "    </tr>\n",
       "    <tr>\n",
       "      <th>21</th>\n",
       "      <td>Vu GloLED 126 cm (50 inch) Ultra HD (4K) LED S...</td>\n",
       "      <td>₹32,999</td>\n",
       "    </tr>\n",
       "    <tr>\n",
       "      <th>22</th>\n",
       "      <td>Vu 108 cm (43 inch) Ultra HD (4K) LED Smart We...</td>\n",
       "      <td>₹20,999</td>\n",
       "    </tr>\n",
       "    <tr>\n",
       "      <th>23</th>\n",
       "      <td>TOSHIBA C350LP Series 126 cm (50 inch) Ultra H...</td>\n",
       "      <td>₹32,990</td>\n",
       "    </tr>\n",
       "  </tbody>\n",
       "</table>\n",
       "</div>"
      ],
      "text/plain": [
       "                                              tv_name tv_price\n",
       "0   KODAK 139 cm (55 inch) QLED Ultra HD (4K) Smar...  ₹37,999\n",
       "1   iFFALCON by TCL U62 108 cm (43 inch) Ultra HD ...  ₹21,999\n",
       "2   OnePlus Y1S Pro 138 cm (55 inch) Ultra HD (4K)...  ₹39,999\n",
       "3   SAMSUNG Crystal 4K 108 cm (43 inch) Ultra HD (...  ₹29,990\n",
       "4   Mi X Series 108 cm (43 inch) Ultra HD (4K) LED...  ₹26,999\n",
       "5   acer I Series 109 cm (43 inch) Ultra HD (4K) L...  ₹23,999\n",
       "6   Mi X Series 138 cm (55 inch) Ultra HD (4K) LED...  ₹37,999\n",
       "7   SENS Pikaso 127 cm (50 inch) Ultra HD (4K) LED...  ₹24,999\n",
       "8   Mi X Series 125 cm (50 inch) Ultra HD (4K) LED...  ₹32,999\n",
       "9   Vu 138 cm (55 inch) Ultra HD (4K) LED Smart We...  ₹29,990\n",
       "10  SAMSUNG Crystal 4K Neo Series 108 cm (43 inch)...  ₹31,990\n",
       "11  KODAK 126 cm (50 inch) QLED Ultra HD (4K) Smar...  ₹31,999\n",
       "12  OnePlus U1S 139 cm (55 inch) Ultra HD (4K) LED...  ₹42,999\n",
       "13  acer I Series 127 cm (50 inch) Ultra HD (4K) L...  ₹27,999\n",
       "14  Thomson 9R PRO 108 cm (43 inch) Ultra HD (4K) ...  ₹19,109\n",
       "15  TOSHIBA U50 Series 126 cm (50 inch) Ultra HD (...  ₹26,999\n",
       "16  Vu GloLED 108 cm (43 inch) Ultra HD (4K) LED S...  ₹27,990\n",
       "17  Hisense A6H 108 cm (43 inch) Ultra HD (4K) LED...  ₹27,990\n",
       "18  acer I Series 139 cm (55 inch) Ultra HD (4K) L...  ₹32,999\n",
       "19  TOSHIBA C350LP 139 cm (55 inch) Ultra HD (4K) ...  ₹32,999\n",
       "20  realme 108 cm (43 inch) Ultra HD (4K) LED Smar...  ₹25,999\n",
       "21  Vu GloLED 126 cm (50 inch) Ultra HD (4K) LED S...  ₹32,999\n",
       "22  Vu 108 cm (43 inch) Ultra HD (4K) LED Smart We...  ₹20,999\n",
       "23  TOSHIBA C350LP Series 126 cm (50 inch) Ultra H...  ₹32,990"
      ]
     },
     "execution_count": 18,
     "metadata": {},
     "output_type": "execute_result"
    }
   ],
   "source": [
    "#to read data from csv file\n",
    "#use inbuilt method read_csv which is define in pandas lib\n",
    "df=pd.read_csv('tv.csv')\n",
    "df"
   ]
  }
 ],
 "metadata": {
  "kernelspec": {
   "display_name": "Python 3 (ipykernel)",
   "language": "python",
   "name": "python3"
  },
  "language_info": {
   "codemirror_mode": {
    "name": "ipython",
    "version": 3
   },
   "file_extension": ".py",
   "mimetype": "text/x-python",
   "name": "python",
   "nbconvert_exporter": "python",
   "pygments_lexer": "ipython3",
   "version": "3.9.13"
  }
 },
 "nbformat": 4,
 "nbformat_minor": 5
}
